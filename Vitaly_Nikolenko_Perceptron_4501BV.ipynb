{
 "cells": [
  {
   "cell_type": "markdown",
   "metadata": {},
   "source": [
    "# Подключаем библиотеки"
   ]
  },
  {
   "cell_type": "code",
   "execution_count": 179,
   "metadata": {},
   "outputs": [],
   "source": [
    "import os\n",
    "import numpy as np\n",
    "import scipy\n",
    "import pandas as pd\n",
    "\n",
    "from sklearn.model_selection import train_test_split\n",
    "from sklearn.metrics import accuracy_score"
   ]
  },
  {
   "cell_type": "markdown",
   "metadata": {},
   "source": [
    "#  Загружаем данные\n"
   ]
  },
  {
   "cell_type": "code",
   "execution_count": 180,
   "metadata": {},
   "outputs": [],
   "source": [
    "DATA_DIR = 'data'\n",
    "FILE_NAME = 'iris.data.csv'\n",
    "\n",
    "file_path = os.path.join(DATA_DIR, FILE_NAME)\n",
    "df = pd.read_csv(file_path, names = ['sepal length', 'sepal width', 'petal length', 'petal width', 'class'])"
   ]
  },
  {
   "cell_type": "markdown",
   "metadata": {},
   "source": [
    "# Подготавливаем данные\n",
    "- заменяем значения класса на 1 и -1\n",
    "- выбираем значение 'sepal length', 'petal length'"
   ]
  },
  {
   "cell_type": "code",
   "execution_count": 181,
   "metadata": {},
   "outputs": [],
   "source": [
    "y = np.where(df[['class']].values[0:100] == 'Iris-setosa', -1, 1)\n",
    "X = df[['sepal length', 'petal length']].values[0:100]"
   ]
  },
  {
   "cell_type": "markdown",
   "metadata": {},
   "source": [
    "## Разделим наши данные на обучающие и тестовые данные (80:20)"
   ]
  },
  {
   "cell_type": "code",
   "execution_count": 182,
   "metadata": {},
   "outputs": [],
   "source": [
    "X_train, X_test, y_train, y_test = train_test_split(X, y, test_size=0.2)"
   ]
  },
  {
   "cell_type": "markdown",
   "metadata": {},
   "source": [
    "## Реализуем класс перцептрон"
   ]
  },
  {
   "cell_type": "code",
   "execution_count": 203,
   "metadata": {},
   "outputs": [],
   "source": [
    "class Perceptron(object):\n",
    "    def __init__(self, learning_rate, n_iterations):\n",
    "        self.learning_rate = learning_rate\n",
    "        self.n_iterations = n_iterations\n",
    "        \n",
    "    def fit(self, x, y):\n",
    "        self.iterations = 0\n",
    "        \n",
    "        \"\"\" параметром w и b придаются нулевые значения \"\"\"\n",
    "        self.weights = np.zeros(1 + x.shape[1])\n",
    "        should_calculate = True\n",
    "        while self.iterations < self.n_iterations and should_calculate:\n",
    "            should_calculate = self.fit_(x, y)\n",
    "        return self\n",
    "    \n",
    "    def fit_(self, x, y):\n",
    "        self.iterations += 1\n",
    "        weight_changed = False\n",
    "        predicted_correctly = 0\n",
    "        \"\"\" проходим по всем x и y обучающей выборки \"\"\"\n",
    "        for xi, yi in zip(x, y):\n",
    "            \"\"\" вычисляем приращение параметров \"\"\"\n",
    "            yi_predicted = self.predict(xi)\n",
    "            b_ = self.learning_rate * (yi - yi_predicted)\n",
    "            wj_ = b_ * xi\n",
    "            \"\"\" осуществляем приращение параметров \"\"\"\n",
    "            self.weights[1:] += wj_\n",
    "            self.weights[0] += b_\n",
    "            if (weight_changed == False):\n",
    "                weight_changed = yi != yi_predicted\n",
    "            predicted_correctly += int(yi == yi_predicted)\n",
    "        print('Iteration: %d , Accuracy: %.2f' % (self.iterations ,predicted_correctly/y.size))\n",
    "        return weight_changed\n",
    "    \n",
    "    def net_input(self, x):\n",
    "        return np.dot(x, self.weights[1:]) + self.weights[0]\n",
    "    \n",
    "    def predict(self, x):\n",
    "        return np.where(self.net_input(x) >= 0.0, 1, -1)  "
   ]
  },
  {
   "cell_type": "markdown",
   "metadata": {},
   "source": [
    "## Проводим обучение и предсказание"
   ]
  },
  {
   "cell_type": "code",
   "execution_count": 205,
   "metadata": {},
   "outputs": [
    {
     "name": "stdout",
     "output_type": "stream",
     "text": [
      "Iteration: 1 , Accuracy: 0.89\n",
      "Iteration: 2 , Accuracy: 1.00\n"
     ]
    },
    {
     "data": {
      "text/plain": [
       "array([-1,  1,  1, -1, -1,  1,  1,  1, -1,  1,  1,  1, -1,  1, -1, -1, -1,\n",
       "       -1,  1,  1])"
      ]
     },
     "execution_count": 205,
     "metadata": {},
     "output_type": "execute_result"
    }
   ],
   "source": [
    "ppn=Perceptron(learning_rate=0.01, n_iterations = 10)\n",
    "ppn.fit(X_train, y_train)\n",
    "y_pred = ppn.predict(X_test)\n",
    "y_pred"
   ]
  },
  {
   "cell_type": "code",
   "execution_count": null,
   "metadata": {},
   "outputs": [],
   "source": []
  },
  {
   "cell_type": "code",
   "execution_count": 206,
   "metadata": {},
   "outputs": [
    {
     "data": {
      "text/plain": [
       "array([[-1,  1,  1, -1, -1,  1,  1,  1, -1,  1,  1,  1, -1,  1, -1, -1,\n",
       "        -1, -1,  1,  1]])"
      ]
     },
     "execution_count": 206,
     "metadata": {},
     "output_type": "execute_result"
    }
   ],
   "source": [
    "y_test.reshape(1, -1)"
   ]
  },
  {
   "cell_type": "code",
   "execution_count": 207,
   "metadata": {},
   "outputs": [
    {
     "data": {
      "text/plain": [
       "2"
      ]
     },
     "execution_count": 207,
     "metadata": {},
     "output_type": "execute_result"
    }
   ],
   "source": [
    "ppn.iterations"
   ]
  },
  {
   "cell_type": "markdown",
   "metadata": {},
   "source": [
    "## Подсчет доли верно определенных классов в тестовой выбоорке"
   ]
  },
  {
   "cell_type": "code",
   "execution_count": 208,
   "metadata": {},
   "outputs": [
    {
     "name": "stdout",
     "output_type": "stream",
     "text": [
      "Accuracy: 1.00\n"
     ]
    }
   ],
   "source": [
    "print('Accuracy: %.2f' % accuracy_score(y_test, y_pred))"
   ]
  },
  {
   "cell_type": "code",
   "execution_count": null,
   "metadata": {},
   "outputs": [],
   "source": []
  }
 ],
 "metadata": {
  "kernelspec": {
   "display_name": "Python 3",
   "language": "python",
   "name": "python3"
  },
  "language_info": {
   "codemirror_mode": {
    "name": "ipython",
    "version": 3
   },
   "file_extension": ".py",
   "mimetype": "text/x-python",
   "name": "python",
   "nbconvert_exporter": "python",
   "pygments_lexer": "ipython3",
   "version": "3.6.6"
  }
 },
 "nbformat": 4,
 "nbformat_minor": 2
}
